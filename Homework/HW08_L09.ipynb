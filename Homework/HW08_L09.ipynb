{
 "cells": [
  {
   "cell_type": "markdown",
   "metadata": {},
   "source": [
    "# Homework 7, Lecture 8"
   ]
  },
  {
   "cell_type": "markdown",
   "metadata": {},
   "source": [
    "The \"famous\" *standard map* is an area-preserving 2D map, which is described by the following equations:\n",
    "\n",
    "$p_{n+1}=p_n+K\\sin(\\theta)  \\mod 2\\pi$\n",
    "\n",
    "$\\theta_{n+1}=\\theta_n+p_{n+1}  \\mod 2\\pi$\n",
    "\n",
    "where $K$ is a parameter that introduces nonlinearity.\n",
    "\n",
    "The *standard map* maps a square with side $2\\pi$ onto itself. You can find more at ([https://en.wikipedia.org/wiki/Standard_map](https://en.wikipedia.org/wiki/Standard_map), [http://mathworld.wolfram.com/StandardMap.html](http://mathworld.wolfram.com/StandardMap.html), [http://www.scholarpedia.org/article/Chirikov_standard_map](http://www.scholarpedia.org/article/Chirikov_standard_map)).\n",
    "\n",
    "Write a python script that plots the phase portraits of the *standard map* for K={0.25, 0.5, 0.75, 1}. For each portrait use 400 trajectories (i.e. 400 initial conditions) and for each trajectory use 1000 points (i.e. iterations). Save the plots in files. Each plot should have axis labels and plot titles. The plot title should indicate the corresponding K value."
   ]
  },
  {
   "cell_type": "code",
   "execution_count": null,
   "metadata": {},
   "outputs": [],
   "source": []
  }
 ],
 "metadata": {
  "kernelspec": {
   "display_name": "Python 3",
   "language": "python",
   "name": "python3"
  },
  "language_info": {
   "codemirror_mode": {
    "name": "ipython",
    "version": 3
   },
   "file_extension": ".py",
   "mimetype": "text/x-python",
   "name": "python",
   "nbconvert_exporter": "python",
   "pygments_lexer": "ipython3",
   "version": "3.6.5"
  }
 },
 "nbformat": 4,
 "nbformat_minor": 2
}
