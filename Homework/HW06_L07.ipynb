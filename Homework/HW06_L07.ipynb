{
 "cells": [
  {
   "cell_type": "markdown",
   "metadata": {},
   "source": [
    "# Homework 6, Lecture 7"
   ]
  },
  {
   "cell_type": "markdown",
   "metadata": {},
   "source": [
    "Write a *python* program that evaluates a root $x_r$ of a continuous function $f(x)$ (i.e. $f(x_r)=0$) using the *bisection* method (see [bisection method](https://en.wikipedia.org/wiki/Bisection_method)).\n",
    "\n",
    "1. The program should ask for the initial interval [a,b], the maximum number of iterations, and the desired tolerance.\n",
    "2. The program should terminate if the values of the function at the endpoints a and b have the same sign. In this case the following message should be  printed:\n",
    "**The function has the same sign at the endpoints. No solution can be found.**\n",
    "3. The program should termintate when the maximum number of iterations is reached (without finding the root). In this case the following message should be  printed:\n",
    "**The root could not be found after $n_{max}$ iterations (f($x_n$)=$f(x_n)$)**, where $n_{max}$ is the maximum number of iterations, $x_n$ the latest midpoint and $f(x_n)$ the value of the function at $x_n$ (e.g. **The root could not be found after 30 iterations (f(4)=52)**).\n",
    "4. When the program finds the root (assuming the required tolerance) should terminate and print the following message:\n",
    "**The root was found after $n$ iterations. x=$x_r$. (f($x_r$)=$f(x_r)$)** (e.g. **The root was found after 4 iterations. x=1.7320508075743515. (f(1.7320508075743515)=3.284483796051063e-11)**"
   ]
  },
  {
   "cell_type": "code",
   "execution_count": null,
   "metadata": {},
   "outputs": [],
   "source": []
  },
  {
   "cell_type": "markdown",
   "metadata": {},
   "source": [
    "## Classwork"
   ]
  },
  {
   "cell_type": "markdown",
   "metadata": {},
   "source": [
    "Read the numbers in the file 'art_data.dat', find their distribution, and plot the distribution using a scatter plot (solid line)."
   ]
  },
  {
   "cell_type": "code",
   "execution_count": null,
   "metadata": {},
   "outputs": [],
   "source": []
  }
 ],
 "metadata": {
  "kernelspec": {
   "display_name": "Python 3",
   "language": "python",
   "name": "python3"
  },
  "language_info": {
   "codemirror_mode": {
    "name": "ipython",
    "version": 3
   },
   "file_extension": ".py",
   "mimetype": "text/x-python",
   "name": "python",
   "nbconvert_exporter": "python",
   "pygments_lexer": "ipython3",
   "version": "3.6.5"
  }
 },
 "nbformat": 4,
 "nbformat_minor": 2
}
