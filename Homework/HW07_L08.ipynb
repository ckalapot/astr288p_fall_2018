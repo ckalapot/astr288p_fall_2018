{
 "cells": [
  {
   "cell_type": "markdown",
   "metadata": {},
   "source": [
    "# Homework 7, Lecture 8"
   ]
  },
  {
   "cell_type": "markdown",
   "metadata": {},
   "source": [
    "Create a function (named rootNR) that solves the equation $f(x)=0$ (where $f(x)$ is a predefined function) using the Newton-Raphson method. The function 'rootNR' should take the following arguments:\n",
    "\n",
    "1) the initial root guess, \n",
    "\n",
    "2) the maximum number of iterations, and \n",
    "\n",
    "3) the desired tolerance. \n",
    "\n",
    "The function 'rootNR' should return an array of two numbers. If 'rootNR' finds the solution then the first of these two numbers should be the solution while the second one should be the number of iterations that were required to find it. If the 'rootNR' could not find the solution (either because it detected a derivative explosion or because it was not able to find the solution with the desired tolerance after $n_{max}$ iterations) then the first of the two numbers (in the array the function 'rootNR' returns) should be the value -100 while the other one should be the $n_{max}$.\n",
    "\n",
    "Create an array that contains a dense number of initial guesses (within some interval) and using the 'rootNR' create two arrays. The first one should contain pairs of the form ($x_0,x_r$) while the second one should contain pairs of the form ($x_0,n$) where $x_0$ are the initial guess values and $x_r$, $n$ the corresponding calculated solutions, and number of (needed) iterations, respectively. The $x_r$ and $n$ are the first and second element of the output of 'rootNR'.\n",
    "\n",
    "Create plots (only points, no lines) of these two arrays for at least 10 different cases (e.g. different intervals, different $n_{max}$ values, different tolerances). Each of these plots should have proper titles (presenting the corresponding parameter values) and proper axis labels. Save all the plots in files."
   ]
  },
  {
   "cell_type": "code",
   "execution_count": null,
   "metadata": {},
   "outputs": [],
   "source": []
  }
 ],
 "metadata": {
  "kernelspec": {
   "display_name": "Python 3",
   "language": "python",
   "name": "python3"
  },
  "language_info": {
   "codemirror_mode": {
    "name": "ipython",
    "version": 3
   },
   "file_extension": ".py",
   "mimetype": "text/x-python",
   "name": "python",
   "nbconvert_exporter": "python",
   "pygments_lexer": "ipython3",
   "version": "3.6.5"
  }
 },
 "nbformat": 4,
 "nbformat_minor": 2
}
