{
 "cells": [
  {
   "cell_type": "markdown",
   "metadata": {},
   "source": [
    "# Homework 4, Lecture 5"
   ]
  },
  {
   "cell_type": "markdown",
   "metadata": {},
   "source": [
    "Go inside '\\~/ASTR288p/homeworks/' and create a new directory that is called 'lecture05'. You have to copy a file named 'myfirstpython.py' inside this directory (i.e lecture05). You can copy this file from your machine using the scp (or pscp). The file 'myfirstpython.py' should contain the python commands that do the following:\n",
    "\n",
    "1. Create two list variables named 'odd' and 'even' that contain (ordered) the even and odd numbers from 0 to 9, respectively.\n",
    "2. Join these two lists (first should be the list that contains the even numbers). The result should be stored to a new variable named 'evenodd'. Print the elements of 'evenodd'.\n",
    "3. Remove from 'evenodd' the first element (based on the above this should be the number 0).\n",
    "4. Define a variable named 'myint' that has an integer value from 1 to 9. Then print (using the appropriate variables) a message that displays the actual position (not the index) of 'myint' in 'evenodd'. The message should be like this: 'The number 5 is in position 7'. \n",
    "5. Create two new lists named 'evennew' and 'oddnew' that are the parts of the list 'evenodd' corresponding to the even and odd numbers that are inside 'evenodd', respectively. The new lists 'evennew' and 'oddnew' should contain the even and odd numbers, respectively.\n",
    "Print a message saying 'My lists contain A even numbers and B odd numbers.' where A and B the number of elements in 'evennew' and 'oddnew', respectively."
   ]
  },
  {
   "cell_type": "code",
   "execution_count": null,
   "metadata": {},
   "outputs": [],
   "source": [
    "even = [0,2,4,6,8]\n",
    "odd = [1,3,5,7,9]\n",
    "evenodd=even+odd\n",
    "del evenodd[0]\n",
    "myint=5\n",
    "myind=evenodd.index(5)\n",
    "print('The number %s is in position %s' % (myint,myind+1))\n",
    "evennew=evenodd[0:4]\n",
    "oddnew=evenodd[4:len(evenodd)]\n",
    "print('My lists contain %s even numbers and %s odd numbers.' % (len(evennew),len(oddnew)))"
   ]
  }
 ],
 "metadata": {
  "kernelspec": {
   "display_name": "Python 3",
   "language": "python",
   "name": "python3"
  },
  "language_info": {
   "codemirror_mode": {
    "name": "ipython",
    "version": 3
   },
   "file_extension": ".py",
   "mimetype": "text/x-python",
   "name": "python",
   "nbconvert_exporter": "python",
   "pygments_lexer": "ipython3",
   "version": "3.6.5"
  }
 },
 "nbformat": 4,
 "nbformat_minor": 2
}
