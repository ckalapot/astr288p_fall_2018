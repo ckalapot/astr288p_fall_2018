{
 "cells": [
  {
   "cell_type": "markdown",
   "metadata": {},
   "source": [
    "# Homework 5, Lecture 6"
   ]
  },
  {
   "cell_type": "markdown",
   "metadata": {},
   "source": [
    "Write a *python* program that evaluates a root $x_r$ of a function $f(x)$ (i.e. $f(x_r)=0$) using the Newton–Raphson method (see [Newton's method](https://en.wikipedia.org/wiki/Newton%27s_method)).\n",
    "\n",
    "Starting from an initail guess $x_0$ for the root and assuming that this guess is close to the actual root we use\n",
    "$$f(x_0+\\delta x)\\approx f(x_0)+f'(x_0)\\delta x$$.\n",
    "\n",
    "Setting the previous expression equal to 0, we get a new guess $x_1$ for the root\n",
    "$$\\delta x=x_1-x_0=-\\dfrac{f(x_0)}{f'(x_0)}$$\n",
    "$$x_1=x_0-\\dfrac{f(x_0)}{f'(x_0)}$$\n",
    "Assuming that convergence is possible, this process is repeated until the an $x_n$ is found: $|f(x_n)|<tol$, where $tol$ is general a small positive value.\n",
    "\n",
    "1. Two functions $f(x)$ and $f'(x)$ should be defined in the program (e.g. $f(x)=x^3-3x$, $f'(x)=3x^2-3$).\n",
    "2. The program should ask for the initial root guess, the maximum number of iterations, and the required tolerance.\n",
    "3. The program should terminate whenever the derivative becomes zero. In this case the following message should be  printed:\n",
    "**There is no convergence. Derivative exploded!**\n",
    "4. The program should termintate when the maximum number of iterations is reached (without finding the root). In this case the following message should be  printed:\n",
    "**The root could not be found after $n_{max}$ iterations (f($x_n$)=$f(x_n)$)**, where $n_{max}$ is the maximum number of iterations, $x_n$ the latest guess and $f(x_n)$ the value of the function at $x_n$ (e.g. **The root could not be found after 30 iterations (f(4)=52)**).\n",
    "5. When the program finds the root (assuming the required tolerancee) should terminate and print the following message:\n",
    "**The root was found after $n$ iterations. x=$x_r$. (f($x_r$)=$f(x_r)$)** (e.g. **The root was found after 4 iterations. x=1.7320508075743515. (f(1.7320508075743515)=3.284483796051063e-11)**"
   ]
  },
  {
   "cell_type": "code",
   "execution_count": null,
   "metadata": {},
   "outputs": [],
   "source": [
    "import numpy as np"
   ]
  },
  {
   "cell_type": "code",
   "execution_count": null,
   "metadata": {},
   "outputs": [],
   "source": [
    "def myfunc(x):\n",
    "    return x**3-3*x\n",
    "\n",
    "\n",
    "def myfuncder(x):\n",
    "    return 3*x**2-3"
   ]
  },
  {
   "cell_type": "code",
   "execution_count": null,
   "metadata": {},
   "outputs": [],
   "source": [
    "x0=float(input('Give me your root guess: '))\n",
    "nmax=int(input('Give me the maximum number of iterations: '))\n",
    "tol=float(input('Give me the desired tolerance: '))\n",
    "fx0=myfunc(x0)\n",
    "n=0\n",
    "while (np.abs(fx0)>tol and n<nmax):\n",
    "    fdx0=myfuncder(x0)\n",
    "    n=n+1\n",
    "    if (fdx0!=0):\n",
    "        x1=x0-fx0/fdx0\n",
    "        x0=x1\n",
    "        fx0=myfunc(x0)\n",
    "    else:\n",
    "        print(\"There is no convergence. Derivative exploded!\")\n",
    "        break\n",
    "else:\n",
    "    if (n==nmax and np.abs(fx0)>tol):\n",
    "        print(\"The root could not be found after %s iterations (f(%s)=%s)\" %(n,x0,fx0))\n",
    "    else:\n",
    "        print(\"The root was found after %s iterations. x=%s. (f(%s)=%s)\" % (n,x0,x0,fx0))"
   ]
  },
  {
   "cell_type": "code",
   "execution_count": null,
   "metadata": {},
   "outputs": [],
   "source": []
  }
 ],
 "metadata": {
  "kernelspec": {
   "display_name": "Python 3",
   "language": "python",
   "name": "python3"
  },
  "language_info": {
   "codemirror_mode": {
    "name": "ipython",
    "version": 3
   },
   "file_extension": ".py",
   "mimetype": "text/x-python",
   "name": "python",
   "nbconvert_exporter": "python",
   "pygments_lexer": "ipython3",
   "version": "3.6.5"
  }
 },
 "nbformat": 4,
 "nbformat_minor": 2
}
