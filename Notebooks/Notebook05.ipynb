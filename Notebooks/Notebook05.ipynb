{
 "cells": [
  {
   "cell_type": "markdown",
   "metadata": {},
   "source": [
    "# Python\n",
    "\n",
    "## Files\n",
    "\n",
    "---"
   ]
  },
  {
   "cell_type": "code",
   "execution_count": 1,
   "metadata": {},
   "outputs": [],
   "source": [
    "%matplotlib inline"
   ]
  },
  {
   "cell_type": "code",
   "execution_count": 2,
   "metadata": {},
   "outputs": [],
   "source": [
    "import numpy as np\n",
    "import matplotlib.pyplot as plt"
   ]
  },
  {
   "cell_type": "code",
   "execution_count": 4,
   "metadata": {},
   "outputs": [
    {
     "data": {
      "text/plain": [
       "True"
      ]
     },
     "execution_count": 4,
     "metadata": {},
     "output_type": "execute_result"
    }
   ],
   "source": [
    "with open('art_data.dat') as f:\n",
    "    read_data = f.read()\n",
    "f.closed"
   ]
  },
  {
   "cell_type": "code",
   "execution_count": 9,
   "metadata": {},
   "outputs": [
    {
     "data": {
      "text/plain": [
       "'3'"
      ]
     },
     "execution_count": 9,
     "metadata": {},
     "output_type": "execute_result"
    }
   ],
   "source": [
    "read_data[2]"
   ]
  },
  {
   "cell_type": "code",
   "execution_count": 11,
   "metadata": {},
   "outputs": [],
   "source": [
    "filename=\"art_data.dat\"\n",
    "data = np.loadtxt(filename)"
   ]
  },
  {
   "cell_type": "code",
   "execution_count": 14,
   "metadata": {},
   "outputs": [
    {
     "data": {
      "text/plain": [
       "10000"
      ]
     },
     "execution_count": 14,
     "metadata": {},
     "output_type": "execute_result"
    }
   ],
   "source": [
    "data[0]\n",
    "len(data)"
   ]
  },
  {
   "cell_type": "code",
   "execution_count": 15,
   "metadata": {},
   "outputs": [],
   "source": [
    "filename=\"art_data2.dat\"\n",
    "data = np.loadtxt(filename)"
   ]
  },
  {
   "cell_type": "code",
   "execution_count": 16,
   "metadata": {},
   "outputs": [
    {
     "data": {
      "text/plain": [
       "array([[ 1.7,  5.3, 10.2],\n",
       "       [ 5.9, 11. ,  6.2],\n",
       "       [-0.5,  4. ,  3.3],\n",
       "       [ 8.8, -7.2, -1.2],\n",
       "       [12.2, -1. ,  3.4]])"
      ]
     },
     "execution_count": 16,
     "metadata": {},
     "output_type": "execute_result"
    }
   ],
   "source": [
    "data"
   ]
  },
  {
   "cell_type": "code",
   "execution_count": 19,
   "metadata": {},
   "outputs": [
    {
     "data": {
      "text/plain": [
       "array([0.        , 0.6981317 , 1.3962634 , 2.0943951 , 2.7925268 ,\n",
       "       3.4906585 , 4.1887902 , 4.88692191, 5.58505361, 6.28318531])"
      ]
     },
     "execution_count": 19,
     "metadata": {},
     "output_type": "execute_result"
    }
   ],
   "source": [
    "x=np.linspace(0,2*np.pi,10)\n",
    "x"
   ]
  },
  {
   "cell_type": "code",
   "execution_count": 20,
   "metadata": {},
   "outputs": [
    {
     "data": {
      "text/plain": [
       "array([ 1.        ,  0.76604444,  0.17364818, -0.5       , -0.93969262,\n",
       "       -0.93969262, -0.5       ,  0.17364818,  0.76604444,  1.        ])"
      ]
     },
     "execution_count": 20,
     "metadata": {},
     "output_type": "execute_result"
    }
   ],
   "source": [
    "z=np.cos(x)\n",
    "z"
   ]
  },
  {
   "cell_type": "code",
   "execution_count": 21,
   "metadata": {},
   "outputs": [],
   "source": [
    "np.savetxt('datatxt_1d.dat',x"
   ]
  },
  {
   "cell_type": "code",
   "execution_count": 22,
   "metadata": {},
   "outputs": [],
   "source": [
    "np.savetxt('datatxt_2d.dat',(x,z))"
   ]
  },
  {
   "cell_type": "code",
   "execution_count": 41,
   "metadata": {},
   "outputs": [
    {
     "data": {
      "text/plain": [
       "array([[ 0.        ,  1.        ],\n",
       "       [ 1.        ,  0.54030231],\n",
       "       [ 2.        , -0.41614684],\n",
       "       [ 3.        , -0.9899925 ],\n",
       "       [ 4.        , -0.65364362],\n",
       "       [ 5.        ,  0.28366219],\n",
       "       [ 6.        ,  0.96017029],\n",
       "       [ 7.        ,  0.75390225],\n",
       "       [ 8.        , -0.14550003],\n",
       "       [ 9.        , -0.91113026]])"
      ]
     },
     "execution_count": 41,
     "metadata": {},
     "output_type": "execute_result"
    }
   ],
   "source": [
    "xy=[]\n",
    "for i in range(10):\n",
    "    xy.append([i,np.cos(i)])\n",
    "xy=np.array(xy)\n",
    "xy"
   ]
  },
  {
   "cell_type": "code",
   "execution_count": 42,
   "metadata": {},
   "outputs": [],
   "source": [
    "np.savetxt('datatxt_2dA.dat',xy)"
   ]
  },
  {
   "cell_type": "code",
   "execution_count": 52,
   "metadata": {},
   "outputs": [],
   "source": [
    "x = np.linspace(-10, -1, 4)\n",
    "y = np.linspace(1, 10, 6)\n",
    "X, Y = np.meshgrid(x, y)"
   ]
  },
  {
   "cell_type": "code",
   "execution_count": 53,
   "metadata": {},
   "outputs": [
    {
     "data": {
      "text/plain": [
       "[array([[-10.,  -7.,  -4.,  -1.],\n",
       "        [-10.,  -7.,  -4.,  -1.],\n",
       "        [-10.,  -7.,  -4.,  -1.],\n",
       "        [-10.,  -7.,  -4.,  -1.],\n",
       "        [-10.,  -7.,  -4.,  -1.],\n",
       "        [-10.,  -7.,  -4.,  -1.]]), array([[ 1. ,  1. ,  1. ,  1. ],\n",
       "        [ 2.8,  2.8,  2.8,  2.8],\n",
       "        [ 4.6,  4.6,  4.6,  4.6],\n",
       "        [ 6.4,  6.4,  6.4,  6.4],\n",
       "        [ 8.2,  8.2,  8.2,  8.2],\n",
       "        [10. , 10. , 10. , 10. ]])]"
      ]
     },
     "execution_count": 53,
     "metadata": {},
     "output_type": "execute_result"
    }
   ],
   "source": [
    "np.meshgrid(x, y)"
   ]
  },
  {
   "cell_type": "code",
   "execution_count": 55,
   "metadata": {},
   "outputs": [
    {
     "data": {
      "text/plain": [
       "array([[ 0.        ,  1.        ],\n",
       "       [ 1.        ,  0.54030231],\n",
       "       [ 2.        , -0.41614684],\n",
       "       [ 3.        , -0.9899925 ],\n",
       "       [ 4.        , -0.65364362],\n",
       "       [ 5.        ,  0.28366219],\n",
       "       [ 6.        ,  0.96017029],\n",
       "       [ 7.        ,  0.75390225],\n",
       "       [ 8.        , -0.14550003],\n",
       "       [ 9.        , -0.91113026]])"
      ]
     },
     "execution_count": 55,
     "metadata": {},
     "output_type": "execute_result"
    }
   ],
   "source": [
    "filename2=\"datatxt_2dA.dat\"\n",
    "data2 = np.loadtxt(filename2)\n",
    "data2"
   ]
  },
  {
   "cell_type": "code",
   "execution_count": 56,
   "metadata": {},
   "outputs": [],
   "source": [
    "import os        # OS module allows the interface with the underlying operating system\n",
    "import math\n",
    "import numpy as np\n",
    "import matplotlib.pyplot as plt\n",
    "\n",
    "os.getcwd()\n",
    "os.chdir('..')"
   ]
  },
  {
   "cell_type": "code",
   "execution_count": 57,
   "metadata": {},
   "outputs": [
    {
     "data": {
      "text/plain": [
       "'E:\\\\EGGRAFA CONSTANTINOU_a15032006\\\\eggrafa_01\\\\CresstII\\\\Teaching\\\\astr288p_2018-fall\\\\astr288p_ckalapot\\\\astr288p_fall_2018'"
      ]
     },
     "execution_count": 57,
     "metadata": {},
     "output_type": "execute_result"
    }
   ],
   "source": [
    "os.getcwd()"
   ]
  },
  {
   "cell_type": "code",
   "execution_count": null,
   "metadata": {},
   "outputs": [],
   "source": []
  }
 ],
 "metadata": {
  "kernelspec": {
   "display_name": "Python 3",
   "language": "python",
   "name": "python3"
  },
  "language_info": {
   "codemirror_mode": {
    "name": "ipython",
    "version": 3
   },
   "file_extension": ".py",
   "mimetype": "text/x-python",
   "name": "python",
   "nbconvert_exporter": "python",
   "pygments_lexer": "ipython3",
   "version": "3.6.5"
  }
 },
 "nbformat": 4,
 "nbformat_minor": 2
}
