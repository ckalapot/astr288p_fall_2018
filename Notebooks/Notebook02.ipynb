{
 "cells": [
  {
   "cell_type": "markdown",
   "metadata": {},
   "source": [
    "# Python\n",
    "\n",
    "## Anaconda Distribution\n",
    "\n",
    "---\n",
    "\n",
    "- ### Control flows"
   ]
  },
  {
   "cell_type": "markdown",
   "metadata": {},
   "source": [
    "***if***"
   ]
  },
  {
   "cell_type": "code",
   "execution_count": 1,
   "metadata": {},
   "outputs": [
    {
     "name": "stdout",
     "output_type": "stream",
     "text": [
      "Give me a number: 7\n"
     ]
    },
    {
     "data": {
      "text/plain": [
       "7.0"
      ]
     },
     "execution_count": 1,
     "metadata": {},
     "output_type": "execute_result"
    }
   ],
   "source": [
    "x=float(input('Give me a number: '))\n",
    "x"
   ]
  },
  {
   "cell_type": "code",
   "execution_count": 2,
   "metadata": {},
   "outputs": [
    {
     "name": "stdout",
     "output_type": "stream",
     "text": [
      "x is a positive number and its square root is\n",
      "2.6457513110645907\n"
     ]
    }
   ],
   "source": [
    "if x<0:\n",
    "    print('x is a negative number')\n",
    "elif x>0:\n",
    "    print('x is a positive number and its square root is')\n",
    "    print(x**0.5)\n",
    "elif x==0:\n",
    "    print('x is zero')\n",
    "else:\n",
    "    print('hidden message')"
   ]
  },
  {
   "cell_type": "code",
   "execution_count": 3,
   "metadata": {},
   "outputs": [
    {
     "name": "stdout",
     "output_type": "stream",
     "text": [
      "Height below average\n"
     ]
    }
   ],
   "source": [
    "s='M'\n",
    "h=175\n",
    "if s=='F' and h>=165:\n",
    "    print('Height above average')\n",
    "elif s=='M' and h>=178:\n",
    "    print('Height above average')\n",
    "else:\n",
    "    print('Height below average')"
   ]
  },
  {
   "cell_type": "code",
   "execution_count": 4,
   "metadata": {},
   "outputs": [
    {
     "name": "stdout",
     "output_type": "stream",
     "text": [
      "Height above average\n"
     ]
    }
   ],
   "source": [
    "s='F'\n",
    "h=170\n",
    "if (s=='F' and h>=165) or (s=='M' and h>=178):\n",
    "    print('Height above average')\n",
    "else:\n",
    "    print('Height below average')"
   ]
  },
  {
   "cell_type": "code",
   "execution_count": 5,
   "metadata": {},
   "outputs": [
    {
     "name": "stdout",
     "output_type": "stream",
     "text": [
      "you can divide by 12\n"
     ]
    }
   ],
   "source": [
    "y=12\n",
    "if y!=0:\n",
    "    print('you can divide by %s' % y)\n",
    "else:\n",
    "    print('you cannot divide by %s' % y)"
   ]
  },
  {
   "cell_type": "markdown",
   "metadata": {},
   "source": [
    "***for***"
   ]
  },
  {
   "cell_type": "code",
   "execution_count": 6,
   "metadata": {},
   "outputs": [
    {
     "data": {
      "text/plain": [
       "[7, 8, 1, 6, 0, 2]"
      ]
     },
     "execution_count": 6,
     "metadata": {},
     "output_type": "execute_result"
    }
   ],
   "source": [
    "nums=[7,8,1,6,0,2]\n",
    "nums"
   ]
  },
  {
   "cell_type": "code",
   "execution_count": 7,
   "metadata": {},
   "outputs": [
    {
     "name": "stdout",
     "output_type": "stream",
     "text": [
      "49\n",
      "64\n",
      "1\n",
      "36\n",
      "0\n",
      "4\n"
     ]
    }
   ],
   "source": [
    "for x in nums:\n",
    "    print(x**2)"
   ]
  },
  {
   "cell_type": "code",
   "execution_count": 8,
   "metadata": {},
   "outputs": [
    {
     "name": "stdout",
     "output_type": "stream",
     "text": [
      "1 is at position 0\n",
      "two is at position 1\n",
      "3 is at position 2\n",
      "four is at position 3\n",
      "5 is at position 4\n",
      "six is at position 5\n",
      "7 is at position 6\n",
      "eight is at position 7\n",
      "9 is at position 8\n"
     ]
    }
   ],
   "source": [
    "numstr=[1,'two',3,'four',5,'six',7,'eight',9]\n",
    "counter=0\n",
    "for x in numstr:\n",
    "    print('%s is at position %s' % (x,counter))\n",
    "    counter+=1      # counter=counter+1"
   ]
  },
  {
   "cell_type": "code",
   "execution_count": 9,
   "metadata": {},
   "outputs": [
    {
     "name": "stdout",
     "output_type": "stream",
     "text": [
      "1 is between\n",
      "0\n",
      "9 and two\n",
      "two is between\n",
      "1\n",
      "1 and 3\n",
      "3 is between\n",
      "2\n",
      "two and four\n",
      "four is between\n",
      "3\n",
      "3 and 5\n",
      "5 is between\n",
      "4\n",
      "four and six\n",
      "six is between\n",
      "5\n",
      "5 and 7\n",
      "7 is between\n",
      "6\n",
      "six and eight\n",
      "eight is between\n",
      "7\n",
      "7 and 9\n",
      "9 is between\n",
      "8\n"
     ]
    },
    {
     "ename": "IndexError",
     "evalue": "list index out of range",
     "output_type": "error",
     "traceback": [
      "\u001b[1;31m---------------------------------------------------------------------------\u001b[0m",
      "\u001b[1;31mIndexError\u001b[0m                                Traceback (most recent call last)",
      "\u001b[1;32m<ipython-input-9-25e468b81e5e>\u001b[0m in \u001b[0;36m<module>\u001b[1;34m()\u001b[0m\n\u001b[0;32m      4\u001b[0m     \u001b[0mindx\u001b[0m\u001b[1;33m=\u001b[0m\u001b[0mnumstr\u001b[0m\u001b[1;33m.\u001b[0m\u001b[0mindex\u001b[0m\u001b[1;33m(\u001b[0m\u001b[0mx\u001b[0m\u001b[1;33m)\u001b[0m\u001b[1;33m\u001b[0m\u001b[0m\n\u001b[0;32m      5\u001b[0m     \u001b[0mprint\u001b[0m\u001b[1;33m(\u001b[0m\u001b[0mindx\u001b[0m\u001b[1;33m)\u001b[0m\u001b[1;33m\u001b[0m\u001b[0m\n\u001b[1;32m----> 6\u001b[1;33m     \u001b[0mprint\u001b[0m\u001b[1;33m(\u001b[0m\u001b[1;34m'%s and %s'\u001b[0m \u001b[1;33m%\u001b[0m \u001b[1;33m(\u001b[0m\u001b[0mnumstr\u001b[0m\u001b[1;33m[\u001b[0m\u001b[0mindx\u001b[0m\u001b[1;33m-\u001b[0m\u001b[1;36m1\u001b[0m\u001b[1;33m]\u001b[0m\u001b[1;33m,\u001b[0m\u001b[0mnumstr\u001b[0m\u001b[1;33m[\u001b[0m\u001b[0mindx\u001b[0m\u001b[1;33m+\u001b[0m\u001b[1;36m1\u001b[0m\u001b[1;33m]\u001b[0m\u001b[1;33m)\u001b[0m\u001b[1;33m)\u001b[0m\u001b[1;33m\u001b[0m\u001b[0m\n\u001b[0m",
      "\u001b[1;31mIndexError\u001b[0m: list index out of range"
     ]
    }
   ],
   "source": [
    "numstr=[1,'two',3,'four',5,'six',7,'eight',9]\n",
    "for x in numstr:\n",
    "    print('%s is between' % x)\n",
    "    indx=numstr.index(x)\n",
    "    print(indx)\n",
    "    print('%s and %s' % (numstr[indx-1],numstr[indx+1]))"
   ]
  },
  {
   "cell_type": "code",
   "execution_count": 10,
   "metadata": {},
   "outputs": [
    {
     "name": "stdout",
     "output_type": "stream",
     "text": [
      "1 is between\n",
      "9 and two\n",
      "two is between\n",
      "1 and 3\n",
      "3 is between\n",
      "two and four\n",
      "four is between\n",
      "3 and 5\n",
      "5 is between\n",
      "four and six\n",
      "six is between\n",
      "5 and 7\n",
      "7 is between\n",
      "six and eight\n",
      "eight is between\n",
      "7 and 9\n",
      "9 is between\n",
      "eight and 1\n"
     ]
    }
   ],
   "source": [
    "numstr=[1,'two',3,'four',5,'six',7,'eight',9]\n",
    "for x in numstr:\n",
    "    print('%s is between' % x)\n",
    "    indx=numstr.index(x)\n",
    "    indx1=indx-1\n",
    "    indx2=indx+1\n",
    "    if indx2>=len(numstr):\n",
    "        indx2=len(numstr)-indx2\n",
    "    print('%s and %s' % (numstr[indx1],numstr[indx2]))"
   ]
  },
  {
   "cell_type": "code",
   "execution_count": 11,
   "metadata": {},
   "outputs": [
    {
     "data": {
      "text/plain": [
       "range(0, 10)"
      ]
     },
     "execution_count": 11,
     "metadata": {},
     "output_type": "execute_result"
    }
   ],
   "source": [
    "# range function\n",
    "range(10)"
   ]
  },
  {
   "cell_type": "code",
   "execution_count": 12,
   "metadata": {},
   "outputs": [
    {
     "name": "stdout",
     "output_type": "stream",
     "text": [
      "0\n",
      "1\n",
      "2\n",
      "3\n",
      "4\n",
      "5\n",
      "6\n",
      "7\n",
      "8\n",
      "9\n"
     ]
    }
   ],
   "source": [
    "for i in range(10):\n",
    "    print(i)"
   ]
  },
  {
   "cell_type": "code",
   "execution_count": 13,
   "metadata": {},
   "outputs": [
    {
     "data": {
      "text/plain": [
       "range(4, 9)"
      ]
     },
     "execution_count": 13,
     "metadata": {},
     "output_type": "execute_result"
    }
   ],
   "source": [
    "range(4,9)"
   ]
  },
  {
   "cell_type": "code",
   "execution_count": 14,
   "metadata": {},
   "outputs": [
    {
     "name": "stdout",
     "output_type": "stream",
     "text": [
      "4\n",
      "5\n",
      "6\n",
      "7\n",
      "8\n"
     ]
    }
   ],
   "source": [
    "for i in range(4,9):\n",
    "    print(i)"
   ]
  },
  {
   "cell_type": "code",
   "execution_count": 23,
   "metadata": {},
   "outputs": [
    {
     "name": "stdout",
     "output_type": "stream",
     "text": [
      "4\n",
      "7\n",
      "10\n"
     ]
    }
   ],
   "source": [
    "for i in range(4,13,3):\n",
    "    print(i)"
   ]
  },
  {
   "cell_type": "code",
   "execution_count": 42,
   "metadata": {},
   "outputs": [
    {
     "data": {
      "text/plain": [
       "[12, 15, 18, 21, 24, 27, 30, 33, 36, 39, 42, 45, 48]"
      ]
     },
     "execution_count": 42,
     "metadata": {},
     "output_type": "execute_result"
    }
   ],
   "source": [
    "xrng=list(range(12,50,3))\n",
    "xrng"
   ]
  },
  {
   "cell_type": "code",
   "execution_count": 1,
   "metadata": {},
   "outputs": [
    {
     "name": "stdout",
     "output_type": "stream",
     "text": [
      "0 Evan\n",
      "1 Robert\n",
      "2 Constantinos\n"
     ]
    }
   ],
   "source": [
    "names=['Evan','Robert','Constantinos']\n",
    "for i in range(len(names)):\n",
    "    print(i,names[i])"
   ]
  },
  {
   "cell_type": "code",
   "execution_count": 2,
   "metadata": {},
   "outputs": [
    {
     "name": "stdout",
     "output_type": "stream",
     "text": [
      "Evan\n",
      "Robert\n",
      "Constantinos\n"
     ]
    }
   ],
   "source": [
    "for i in names:\n",
    "    print(i)"
   ]
  },
  {
   "cell_type": "code",
   "execution_count": 16,
   "metadata": {},
   "outputs": [
    {
     "name": "stdout",
     "output_type": "stream",
     "text": [
      "Found an even number 2\n",
      "Found a number 3\n",
      "Found an even number 4\n",
      "Found a number 5\n",
      "Found an even number 6\n",
      "Found a number 7\n",
      "Found an even number 8\n",
      "Found a number 9\n"
     ]
    }
   ],
   "source": [
    "for num in range(2, 10):\n",
    "    if num % 2 == 0:\n",
    "        print(\"Found an even number\", num)\n",
    "        continue                           # make this  line a comment and try again\n",
    "    print(\"Found a number\", num)"
   ]
  },
  {
   "cell_type": "code",
   "execution_count": 5,
   "metadata": {},
   "outputs": [
    {
     "data": {
      "text/plain": [
       "{'Mary': 25, 'John': 20, 'Bill': 40, 'Emma': 30}"
      ]
     },
     "execution_count": 5,
     "metadata": {},
     "output_type": "execute_result"
    }
   ],
   "source": [
    "ages={'Mary':25, 'John': 20, 'Bill': 40, 'Emma': 30}\n",
    "ages"
   ]
  },
  {
   "cell_type": "code",
   "execution_count": 8,
   "metadata": {},
   "outputs": [
    {
     "name": "stdout",
     "output_type": "stream",
     "text": [
      "Mary is 25 years old\n",
      "John is 20 years old\n",
      "Bill is 40 years old\n",
      "Emma is 30 years old\n"
     ]
    }
   ],
   "source": [
    "for n, a in ages.items():\n",
    "    print(\"%s is %a years old\" % (n,a))"
   ]
  },
  {
   "cell_type": "code",
   "execution_count": 17,
   "metadata": {},
   "outputs": [
    {
     "data": {
      "text/plain": [
       "[2, 3, 5, 7, 11, 13]"
      ]
     },
     "execution_count": 17,
     "metadata": {},
     "output_type": "execute_result"
    }
   ],
   "source": [
    "primes=[2,3,5,7,11,13]\n",
    "primes"
   ]
  },
  {
   "cell_type": "code",
   "execution_count": 20,
   "metadata": {},
   "outputs": [
    {
     "name": "stdout",
     "output_type": "stream",
     "text": [
      "0 1 2\n",
      "1 2 3\n",
      "2 3 5\n",
      "3 4 7\n",
      "4 5 11\n",
      "5 6 13\n"
     ]
    }
   ],
   "source": [
    "for i, x in enumerate(primes):\n",
    "    print(i,i+1,x)"
   ]
  },
  {
   "cell_type": "markdown",
   "metadata": {},
   "source": [
    "***while***"
   ]
  },
  {
   "cell_type": "code",
   "execution_count": 17,
   "metadata": {},
   "outputs": [
    {
     "name": "stdout",
     "output_type": "stream",
     "text": [
      "0 0\n",
      "1 1\n",
      "2 3\n",
      "3 6\n",
      "4 10\n",
      "5 15\n",
      "6 21\n",
      "7 28\n",
      "8 36\n",
      "9 45\n",
      "final sum 55\n"
     ]
    }
   ],
   "source": [
    "a=0\n",
    "total=0\n",
    "while a<10:\n",
    "    print(a,total)\n",
    "\n",
    "    a+=1\n",
    "    total+=a\n",
    "    if total>100:\n",
    "        break         # terminates the innermost enclosing for or while loop.\n",
    "else:                 # this is an else for while\n",
    "    print(\"final sum\",total)"
   ]
  },
  {
   "cell_type": "code",
   "execution_count": 2,
   "metadata": {},
   "outputs": [
    {
     "name": "stdout",
     "output_type": "stream",
     "text": [
      "0 0\n",
      "1 1\n",
      "2 3\n",
      "3 6\n",
      "4 10\n",
      "5 15\n",
      "6 21\n",
      "7 28\n",
      "8 36\n",
      "9 45\n",
      "10 55\n",
      "11 66\n",
      "12 78\n",
      "13 91\n"
     ]
    }
   ],
   "source": [
    "a=0\n",
    "total=0\n",
    "while a<20:\n",
    "    print(a,total)\n",
    "\n",
    "    a+=1\n",
    "    total+=a\n",
    "    if total>100:\n",
    "        break         # terminates the innermost enclosing for or while loop.\n",
    "else:\n",
    "    print(\"final sum\",total)"
   ]
  },
  {
   "cell_type": "code",
   "execution_count": 1,
   "metadata": {},
   "outputs": [
    {
     "name": "stdout",
     "output_type": "stream",
     "text": [
      "1\n",
      "3\n",
      "5\n",
      "7\n"
     ]
    }
   ],
   "source": [
    "for x in range(0,9):\n",
    "    if (x%2==0):\n",
    "        continue       # The continue statement ignores all the remaining statements \n",
    "                       # of the current iteration of the loop and moves the control \n",
    "                       # back to the top of the loop.\n",
    "    print(x)"
   ]
  },
  {
   "cell_type": "markdown",
   "metadata": {},
   "source": [
    "- ### Functions"
   ]
  },
  {
   "cell_type": "code",
   "execution_count": 25,
   "metadata": {},
   "outputs": [],
   "source": [
    "def mysqrt(x):\n",
    "    # this is my sqrt function (comment vs. docstring)\n",
    "    '''\n",
    "    This is the docstring for mysqrt!\n",
    "    \n",
    "    Here is more text!\n",
    "    '''\n",
    "    \n",
    "    if x < 0:\n",
    "        return -(-x)**0.5\n",
    "    else:\n",
    "        return x**0.5"
   ]
  },
  {
   "cell_type": "code",
   "execution_count": 26,
   "metadata": {},
   "outputs": [
    {
     "name": "stdout",
     "output_type": "stream",
     "text": [
      "-4 -2.0\n",
      "-3 -1.7320508075688772\n",
      "-2 -1.4142135623730951\n",
      "-1 -1.0\n",
      "0 0.0\n",
      "1 1.0\n",
      "2 1.4142135623730951\n",
      "3 1.7320508075688772\n",
      "4 2.0\n"
     ]
    }
   ],
   "source": [
    "for x in range(-4,5):\n",
    "    print(x,mysqrt(x))"
   ]
  },
  {
   "cell_type": "code",
   "execution_count": 27,
   "metadata": {},
   "outputs": [
    {
     "data": {
      "text/plain": [
       "4"
      ]
     },
     "execution_count": 27,
     "metadata": {},
     "output_type": "execute_result"
    }
   ],
   "source": [
    "x"
   ]
  },
  {
   "cell_type": "code",
   "execution_count": 28,
   "metadata": {},
   "outputs": [
    {
     "name": "stdout",
     "output_type": "stream",
     "text": [
      "\n",
      "    This is the docstring for mysqrt!\n",
      "    \n",
      "    Here is more text!\n",
      "    \n"
     ]
    }
   ],
   "source": [
    "print(mysqrt.__doc__)"
   ]
  },
  {
   "cell_type": "code",
   "execution_count": 21,
   "metadata": {},
   "outputs": [],
   "source": [
    "def ask_ok(prompt, retries=4, reminder='Please try again!'):\n",
    "    while True:\n",
    "        ok = input(prompt)\n",
    "        if ok in ('y', 'ye', 'yes'):\n",
    "            return True\n",
    "        if ok in ('n', 'no', 'nop', 'nope'):\n",
    "            return False\n",
    "        retries = retries - 1\n",
    "        if retries < 0:\n",
    "            print('invalid user response')\n",
    "            break\n",
    "        print(reminder)"
   ]
  },
  {
   "cell_type": "code",
   "execution_count": 22,
   "metadata": {},
   "outputs": [
    {
     "name": "stdout",
     "output_type": "stream",
     "text": [
      "Do you really want to quit?g\n",
      "Please try again!\n",
      "Do you really want to quit?g\n",
      "Please try again!\n",
      "Do you really want to quit?g\n",
      "Please try again!\n",
      "Do you really want to quit?g\n",
      "Please try again!\n",
      "Do you really want to quit?g\n",
      "invalid user response\n"
     ]
    }
   ],
   "source": [
    "ask_ok('Do you really want to quit?')"
   ]
  },
  {
   "cell_type": "code",
   "execution_count": 23,
   "metadata": {},
   "outputs": [
    {
     "name": "stdout",
     "output_type": "stream",
     "text": [
      "OK to overwrite the file?f\n",
      "Please try again!\n",
      "OK to overwrite the file?f\n",
      "Please try again!\n",
      "OK to overwrite the file?f\n",
      "invalid user response\n"
     ]
    }
   ],
   "source": [
    "ask_ok('OK to overwrite the file?', 2)"
   ]
  },
  {
   "cell_type": "code",
   "execution_count": 24,
   "metadata": {},
   "outputs": [
    {
     "name": "stdout",
     "output_type": "stream",
     "text": [
      "OK to overwrite the file?g\n",
      "Come on, only yes or no!\n",
      "OK to overwrite the file?g\n",
      "Come on, only yes or no!\n",
      "OK to overwrite the file?g\n",
      "invalid user response\n"
     ]
    }
   ],
   "source": [
    "ask_ok('OK to overwrite the file?', 2, 'Come on, only yes or no!')"
   ]
  },
  {
   "cell_type": "markdown",
   "metadata": {},
   "source": [
    "**try - ** \n",
    "**except**"
   ]
  },
  {
   "cell_type": "code",
   "execution_count": 31,
   "metadata": {},
   "outputs": [
    {
     "ename": "ZeroDivisionError",
     "evalue": "division by zero",
     "output_type": "error",
     "traceback": [
      "\u001b[1;31m---------------------------------------------------------------------------\u001b[0m",
      "\u001b[1;31mZeroDivisionError\u001b[0m                         Traceback (most recent call last)",
      "\u001b[1;32m<ipython-input-31-f246a5bd2089>\u001b[0m in \u001b[0;36m<module>\u001b[1;34m()\u001b[0m\n\u001b[0;32m      1\u001b[0m \u001b[0mxx\u001b[0m\u001b[1;33m=\u001b[0m\u001b[1;36m0\u001b[0m\u001b[1;33m\u001b[0m\u001b[0m\n\u001b[1;32m----> 2\u001b[1;33m \u001b[0mprint\u001b[0m\u001b[1;33m(\u001b[0m\u001b[1;36m1\u001b[0m\u001b[1;33m/\u001b[0m\u001b[0mxx\u001b[0m\u001b[1;33m)\u001b[0m\u001b[1;33m\u001b[0m\u001b[0m\n\u001b[0m",
      "\u001b[1;31mZeroDivisionError\u001b[0m: division by zero"
     ]
    }
   ],
   "source": [
    "xx=0\n",
    "print(1/xx)"
   ]
  },
  {
   "cell_type": "code",
   "execution_count": 56,
   "metadata": {},
   "outputs": [
    {
     "name": "stdout",
     "output_type": "stream",
     "text": [
      "Error\n"
     ]
    }
   ],
   "source": [
    "try:\n",
    "    print(1/xx)\n",
    "except:\n",
    "    print(\"Error\")"
   ]
  },
  {
   "cell_type": "code",
   "execution_count": 60,
   "metadata": {},
   "outputs": [
    {
     "ename": "NameError",
     "evalue": "name 'yy' is not defined",
     "output_type": "error",
     "traceback": [
      "\u001b[1;31m---------------------------------------------------------------------------\u001b[0m",
      "\u001b[1;31mNameError\u001b[0m                                 Traceback (most recent call last)",
      "\u001b[1;32m<ipython-input-60-502a836e2d1e>\u001b[0m in \u001b[0;36m<module>\u001b[1;34m()\u001b[0m\n\u001b[1;32m----> 1\u001b[1;33m \u001b[0mprint\u001b[0m\u001b[1;33m(\u001b[0m\u001b[1;36m1\u001b[0m\u001b[1;33m/\u001b[0m\u001b[0myy\u001b[0m\u001b[1;33m)\u001b[0m\u001b[1;33m\u001b[0m\u001b[0m\n\u001b[0m",
      "\u001b[1;31mNameError\u001b[0m: name 'yy' is not defined"
     ]
    }
   ],
   "source": [
    "print(1/yy)"
   ]
  },
  {
   "cell_type": "code",
   "execution_count": 61,
   "metadata": {},
   "outputs": [
    {
     "name": "stdout",
     "output_type": "stream",
     "text": [
      "Variable Error\n"
     ]
    }
   ],
   "source": [
    "try:\n",
    "    print(1/yy)\n",
    "except ZeroDivisionError:\n",
    "    print(\"Mathematical Error\")\n",
    "except NameError:\n",
    "    print(\"Variable Error\")"
   ]
  },
  {
   "cell_type": "code",
   "execution_count": 66,
   "metadata": {},
   "outputs": [
    {
     "name": "stdout",
     "output_type": "stream",
     "text": [
      "Mathematical Error\n"
     ]
    }
   ],
   "source": [
    "yy=0\n",
    "try:\n",
    "    print(1/yy)\n",
    "except ZeroDivisionError:\n",
    "    print(\"Mathematical Error\")\n",
    "except NameError:\n",
    "    print(\"Variable Error\")\n",
    "else:\n",
    "    print(\"Some other error\")"
   ]
  },
  {
   "cell_type": "code",
   "execution_count": 68,
   "metadata": {},
   "outputs": [
    {
     "name": "stdout",
     "output_type": "stream",
     "text": [
      "Well done!\n"
     ]
    }
   ],
   "source": [
    "yy=4\n",
    "try:\n",
    "    z=1/yy\n",
    "except ZeroDivisionError:\n",
    "    print(\"Mathematical Error\")\n",
    "except NameError:\n",
    "    print(\"Variable Error\")\n",
    "else:\n",
    "    print(\"Well done!\")"
   ]
  },
  {
   "cell_type": "markdown",
   "metadata": {},
   "source": [
    "**Variable Scope**"
   ]
  },
  {
   "cell_type": "code",
   "execution_count": 70,
   "metadata": {},
   "outputs": [
    {
     "name": "stdout",
     "output_type": "stream",
     "text": [
      "Inside: I am a local variable\n",
      "Outside: I am a global variable\n"
     ]
    }
   ],
   "source": [
    "xtxt='I am a global variable'\n",
    "def message():\n",
    "    xtxt='I am a local variable'\n",
    "    print(\"Inside:\", xtxt)\n",
    "\n",
    "message()\n",
    "print(\"Outside:\", xtxt)"
   ]
  },
  {
   "cell_type": "code",
   "execution_count": 77,
   "metadata": {},
   "outputs": [
    {
     "name": "stdout",
     "output_type": "stream",
     "text": [
      "Inside1: I am a local variable\n",
      "More inside: I am a nonlocal variable\n",
      "Inside2: I am a nonlocal variable\n",
      "Outside: I am a global variable\n"
     ]
    }
   ],
   "source": [
    "xtxt='I am a global variable'\n",
    "def message():\n",
    "    xtxt='I am a local variable'\n",
    "    print(\"Inside1:\", xtxt)\n",
    "    \n",
    "    def inner():\n",
    "        nonlocal xtxt\n",
    "        xtxt = \"I am a nonlocal variable\"\n",
    "        print(\"More inside:\", xtxt)\n",
    "    \n",
    "    inner()\n",
    "    print(\"Inside2:\", xtxt)\n",
    "\n",
    "message()\n",
    "print(\"Outside:\", xtxt)"
   ]
  },
  {
   "cell_type": "code",
   "execution_count": 81,
   "metadata": {},
   "outputs": [
    {
     "name": "stdout",
     "output_type": "stream",
     "text": [
      "Inside1: I am a local variable\n",
      "More inside1: I am a nonlocal variable\n",
      "More inside2: I am a new global variable\n",
      "Inside2: I am a nonlocal variable\n",
      "Outside: I am a new global variable\n"
     ]
    }
   ],
   "source": [
    "xtxt='I am a global variable'\n",
    "def message():\n",
    "    xtxt='I am a local variable'\n",
    "    print(\"Inside1:\", xtxt)\n",
    "    \n",
    "    def inner():\n",
    "        nonlocal xtxt\n",
    "        xtxt = \"I am a nonlocal variable\"\n",
    "        print(\"More inside1:\", xtxt)\n",
    "        \n",
    "    def globalinner():\n",
    "        global xtxt\n",
    "        xtxt = \"I am a new global variable\"\n",
    "        print(\"More inside2:\", xtxt)\n",
    "    \n",
    "    inner()\n",
    "    globalinner()\n",
    "    print(\"Inside2:\", xtxt)\n",
    "\n",
    "message()\n",
    "print(\"Outside:\", xtxt)"
   ]
  },
  {
   "cell_type": "code",
   "execution_count": 84,
   "metadata": {},
   "outputs": [
    {
     "ename": "SyntaxError",
     "evalue": "no binding for nonlocal 'xtxt' found (<ipython-input-84-b905f688fe0e>, line 8)",
     "output_type": "error",
     "traceback": [
      "\u001b[1;36m  File \u001b[1;32m\"<ipython-input-84-b905f688fe0e>\"\u001b[1;36m, line \u001b[1;32m8\u001b[0m\n\u001b[1;33m    nonlocal xtxt\u001b[0m\n\u001b[1;37m    ^\u001b[0m\n\u001b[1;31mSyntaxError\u001b[0m\u001b[1;31m:\u001b[0m no binding for nonlocal 'xtxt' found\n"
     ]
    }
   ],
   "source": [
    "xtxt='I am a global variable'\n",
    "def message():\n",
    "    #xtxt='I am a local variable'\n",
    "    global xtxt\n",
    "    print(\"Inside1:\", xtxt)\n",
    "    \n",
    "    def inner():\n",
    "        nonlocal xtxt\n",
    "        xtxt = \"I am a nonlocal variable\"\n",
    "        print(\"More inside1:\", xtxt)\n",
    "        \n",
    "    def globalinner():\n",
    "        global xtxt\n",
    "        xtxt = \"I am a new global variable\"\n",
    "        print(\"More inside2:\", xtxt)\n",
    "    \n",
    "    inner()\n",
    "    globalinner()\n",
    "    print(\"Inside2:\", xtxt)\n",
    "\n",
    "message()\n",
    "print(\"Outside:\", xtxt)"
   ]
  },
  {
   "cell_type": "code",
   "execution_count": 85,
   "metadata": {},
   "outputs": [
    {
     "name": "stdout",
     "output_type": "stream",
     "text": [
      "Inside1: I am a global variable\n",
      "More inside2: I am a new global variable\n",
      "Inside2: I am a new global variable\n",
      "Outside: I am a new global variable\n"
     ]
    }
   ],
   "source": [
    "xtxt='I am a global variable'\n",
    "def message():\n",
    "    #xtxt='I am a local variable'\n",
    "    global xtxt\n",
    "    print(\"Inside1:\", xtxt)\n",
    "    \n",
    "       \n",
    "    def globalinner():\n",
    "        global xtxt\n",
    "        xtxt = \"I am a new global variable\"\n",
    "        print(\"More inside2:\", xtxt)\n",
    "    \n",
    "    globalinner()\n",
    "    print(\"Inside2:\", xtxt)\n",
    "\n",
    "message()\n",
    "print(\"Outside:\", xtxt)"
   ]
  },
  {
   "cell_type": "markdown",
   "metadata": {},
   "source": [
    "- ### Modules"
   ]
  },
  {
   "cell_type": "code",
   "execution_count": 4,
   "metadata": {},
   "outputs": [],
   "source": [
    "# Save in a file named 'arseq.py' the following\n",
    "\n",
    "def seqterm(n,a1,w):\n",
    "    an=a1+(n-1)*w\n",
    "    return an\n",
    "\n",
    "def seqterms(n,a1,w):\n",
    "    terms=[]\n",
    "    for i in range(n):\n",
    "        an=a1+i*w\n",
    "        terms.append(an)\n",
    "    return terms  "
   ]
  },
  {
   "cell_type": "code",
   "execution_count": null,
   "metadata": {},
   "outputs": [],
   "source": [
    "import arseq\n",
    "arseq.seqterm(15,-2,7)\n",
    "arseq.seqterms(15,-2,7)\n",
    "\n",
    "from arseq import seqterm seqterms\n",
    "seqterm(15,-2,7)\n",
    "\n",
    "import arseq as asq\n",
    "asq.seqterm(15,-2,7)\n",
    "\n",
    "from arseq import seqterms as sts\n",
    "sts(15,-2,7)"
   ]
  }
 ],
 "metadata": {
  "kernelspec": {
   "display_name": "Python 3",
   "language": "python",
   "name": "python3"
  },
  "language_info": {
   "codemirror_mode": {
    "name": "ipython",
    "version": 3
   },
   "file_extension": ".py",
   "mimetype": "text/x-python",
   "name": "python",
   "nbconvert_exporter": "python",
   "pygments_lexer": "ipython3",
   "version": "3.6.5"
  }
 },
 "nbformat": 4,
 "nbformat_minor": 2
}
